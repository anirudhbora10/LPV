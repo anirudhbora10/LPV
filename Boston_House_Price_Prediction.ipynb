{
  "cells": [
    {
      "cell_type": "code",
      "execution_count": null,
      "metadata": {
        "id": "Gr5EXqfh8UyD"
      },
      "outputs": [],
      "source": [
        "# If load_boston does not work then download the data and use this.\n",
        "# Data : https://github.com/afnan47/sem8/blob/master/DL/1_boston_housing.csv\n",
        "import pandas as pd\n",
        "df = pd.read_csv(\"./1_boston_housing.csv\")"
      ]
    },
    {
      "cell_type": "code",
      "execution_count": null,
      "metadata": {
        "id": "4FEDjg8rsyi0",
        "colab": {
          "base_uri": "https://localhost:8080/"
        },
        "outputId": "25c49fd3-c0b2-4244-91e3-808b4f0f88b2"
      },
      "outputs": [
        {
          "output_type": "stream",
          "name": "stdout",
          "text": [
            "Training set shape: (354, 13) (354, 1)\n",
            "Testing set shape: (152, 13) (152, 1)\n"
          ]
        }
      ],
      "source": [
        "# Split the dataset\n",
        "from sklearn.model_selection import train_test_split\n",
        "\n",
        "X = df.loc[:, df.columns != 'MEDV']\n",
        "y = df.loc[:, df.columns == 'MEDV']\n",
        "X_train, X_test, y_train, y_test = train_test_split(X, y, test_size=0.3, random_state=42)\n",
        "\n",
        "print('Training set shape:', X_train.shape, y_train.shape)\n",
        "print('Testing set shape:', X_test.shape, y_test.shape)\n"
      ]
    },
    {
      "cell_type": "code",
      "execution_count": null,
      "metadata": {
        "colab": {
          "base_uri": "https://localhost:8080/"
        },
        "id": "VL8VMy_fs3fl",
        "outputId": "7dcb4ba5-5b01-42a8-a5f3-3d5562d916d5"
      },
      "outputs": [
        {
          "output_type": "stream",
          "name": "stdout",
          "text": [
            "Model: \"sequential_6\"\n",
            "_________________________________________________________________\n",
            " Layer (type)                Output Shape              Param #   \n",
            "=================================================================\n",
            " dense_1 (Dense)             (None, 128)               1792      \n",
            "                                                                 \n",
            " dense_2 (Dense)             (None, 64)                8256      \n",
            "                                                                 \n",
            " dense_output (Dense)        (None, 1)                 65        \n",
            "                                                                 \n",
            "=================================================================\n",
            "Total params: 10,113\n",
            "Trainable params: 10,113\n",
            "Non-trainable params: 0\n",
            "_________________________________________________________________\n"
          ]
        }
      ],
      "source": [
        "# Define the model architecture\n",
        "from tensorflow.keras.models import Sequential\n",
        "from tensorflow.keras.layers import Dense\n",
        "\n",
        "model = Sequential()\n",
        "\n",
        "model.add(Dense(128, input_shape=(13, ), activation='relu', name='dense_1'))\n",
        "model.add(Dense(64, activation='relu', name='dense_2'))\n",
        "model.add(Dense(1, activation='linear', name='dense_output'))\n",
        "\n",
        "model.compile(optimizer='adam', loss='mse', metrics=['mae'])\n",
        "model.summary()"
      ]
    },
    {
      "cell_type": "code",
      "source": [
        "# Compile the model\n",
        "model.compile(loss='mean_squared_error', optimizer='adam', metrics=['mean_absolute_error'])"
      ],
      "metadata": {
        "id": "_scDLD7TGU6W"
      },
      "execution_count": null,
      "outputs": []
    },
    {
      "cell_type": "code",
      "source": [
        "# Train the model\n",
        "from keras.callbacks import EarlyStopping\n",
        "\n",
        "\n",
        "early_stopping = EarlyStopping(monitor='val_loss', patience=5)\n",
        "history = model.fit(X_train, y_train, validation_split=0.2, epochs=100, batch_size=32,callbacks=[early_stopping])\n",
        "\n",
        "# Plot the training and validation loss over epochs\n",
        "\n",
        "import matplotlib.pyplot as plt \n",
        "plt.plot(history.history['loss'])\n",
        "plt.plot(history.history['val_loss']) \n",
        "plt.title('Model Loss')\n",
        "plt.xlabel('Epochs')\n",
        "\n",
        "plt.ylabel('Loss') \n",
        "plt.legend(['Training','Validation'])\n",
        "plt.show()\n"
      ],
      "metadata": {
        "colab": {
          "base_uri": "https://localhost:8080/",
          "height": 1000
        },
        "id": "04_TxeuVGe0N",
        "outputId": "b9b5c3ba-0a24-44df-a38c-daab4707da5d"
      },
      "execution_count": null,
      "outputs": [
        {
          "output_type": "stream",
          "name": "stdout",
          "text": [
            "Epoch 1/100\n",
            "9/9 [==============================] - 4s 112ms/step - loss: 282.2374 - mean_absolute_error: 12.4228 - val_loss: 137.2804 - val_mean_absolute_error: 9.2991\n",
            "Epoch 2/100\n",
            "9/9 [==============================] - 0s 14ms/step - loss: 128.5914 - mean_absolute_error: 9.1315 - val_loss: 87.9518 - val_mean_absolute_error: 7.2829\n",
            "Epoch 3/100\n",
            "9/9 [==============================] - 0s 29ms/step - loss: 76.8361 - mean_absolute_error: 6.7156 - val_loss: 89.6309 - val_mean_absolute_error: 6.7404\n",
            "Epoch 4/100\n",
            "9/9 [==============================] - 0s 28ms/step - loss: 73.3300 - mean_absolute_error: 6.4254 - val_loss: 83.6931 - val_mean_absolute_error: 6.7078\n",
            "Epoch 5/100\n",
            "9/9 [==============================] - 0s 29ms/step - loss: 67.8698 - mean_absolute_error: 6.0418 - val_loss: 65.8460 - val_mean_absolute_error: 6.0089\n",
            "Epoch 6/100\n",
            "9/9 [==============================] - 0s 19ms/step - loss: 61.3603 - mean_absolute_error: 5.7984 - val_loss: 57.5937 - val_mean_absolute_error: 5.3047\n",
            "Epoch 7/100\n",
            "9/9 [==============================] - 0s 27ms/step - loss: 56.3679 - mean_absolute_error: 5.3220 - val_loss: 57.4024 - val_mean_absolute_error: 5.5201\n",
            "Epoch 8/100\n",
            "9/9 [==============================] - 0s 24ms/step - loss: 55.9480 - mean_absolute_error: 5.4173 - val_loss: 59.7003 - val_mean_absolute_error: 5.6747\n",
            "Epoch 9/100\n",
            "9/9 [==============================] - 0s 22ms/step - loss: 55.5630 - mean_absolute_error: 5.5172 - val_loss: 56.3702 - val_mean_absolute_error: 5.5996\n",
            "Epoch 10/100\n",
            "9/9 [==============================] - 0s 27ms/step - loss: 53.5807 - mean_absolute_error: 5.4413 - val_loss: 52.9166 - val_mean_absolute_error: 5.3292\n",
            "Epoch 11/100\n",
            "9/9 [==============================] - 0s 22ms/step - loss: 49.5725 - mean_absolute_error: 4.9862 - val_loss: 52.0679 - val_mean_absolute_error: 5.0374\n",
            "Epoch 12/100\n",
            "9/9 [==============================] - 0s 52ms/step - loss: 49.3505 - mean_absolute_error: 5.0884 - val_loss: 50.7424 - val_mean_absolute_error: 5.1128\n",
            "Epoch 13/100\n",
            "9/9 [==============================] - 0s 31ms/step - loss: 52.3289 - mean_absolute_error: 5.2849 - val_loss: 49.3778 - val_mean_absolute_error: 4.8106\n",
            "Epoch 14/100\n",
            "9/9 [==============================] - 0s 37ms/step - loss: 53.4685 - mean_absolute_error: 5.3615 - val_loss: 102.8165 - val_mean_absolute_error: 7.4876\n",
            "Epoch 15/100\n",
            "9/9 [==============================] - 0s 28ms/step - loss: 61.6858 - mean_absolute_error: 5.6275 - val_loss: 48.5802 - val_mean_absolute_error: 5.0743\n",
            "Epoch 16/100\n",
            "9/9 [==============================] - 0s 22ms/step - loss: 64.6826 - mean_absolute_error: 6.1046 - val_loss: 65.0746 - val_mean_absolute_error: 6.6464\n",
            "Epoch 17/100\n",
            "9/9 [==============================] - 0s 21ms/step - loss: 49.7128 - mean_absolute_error: 5.1610 - val_loss: 52.7713 - val_mean_absolute_error: 4.8661\n",
            "Epoch 18/100\n",
            "9/9 [==============================] - 0s 30ms/step - loss: 44.8735 - mean_absolute_error: 4.6278 - val_loss: 46.9699 - val_mean_absolute_error: 4.7758\n",
            "Epoch 19/100\n",
            "9/9 [==============================] - 0s 35ms/step - loss: 45.8249 - mean_absolute_error: 4.9251 - val_loss: 68.0760 - val_mean_absolute_error: 6.9599\n",
            "Epoch 20/100\n",
            "9/9 [==============================] - 0s 39ms/step - loss: 48.8302 - mean_absolute_error: 5.2650 - val_loss: 46.0972 - val_mean_absolute_error: 4.6989\n",
            "Epoch 21/100\n",
            "9/9 [==============================] - 0s 26ms/step - loss: 45.0552 - mean_absolute_error: 4.7173 - val_loss: 46.0540 - val_mean_absolute_error: 4.6809\n",
            "Epoch 22/100\n",
            "9/9 [==============================] - 0s 19ms/step - loss: 40.5474 - mean_absolute_error: 4.5714 - val_loss: 45.6627 - val_mean_absolute_error: 4.3943\n",
            "Epoch 23/100\n",
            "9/9 [==============================] - 0s 16ms/step - loss: 39.3305 - mean_absolute_error: 4.5051 - val_loss: 44.9768 - val_mean_absolute_error: 4.4733\n",
            "Epoch 24/100\n",
            "9/9 [==============================] - 0s 20ms/step - loss: 47.0795 - mean_absolute_error: 5.2145 - val_loss: 55.4325 - val_mean_absolute_error: 5.8395\n",
            "Epoch 25/100\n",
            "9/9 [==============================] - 0s 25ms/step - loss: 39.0272 - mean_absolute_error: 4.5474 - val_loss: 42.9945 - val_mean_absolute_error: 4.3727\n",
            "Epoch 26/100\n",
            "9/9 [==============================] - 0s 16ms/step - loss: 37.7300 - mean_absolute_error: 4.5286 - val_loss: 43.4138 - val_mean_absolute_error: 4.4720\n",
            "Epoch 27/100\n",
            "9/9 [==============================] - 0s 17ms/step - loss: 44.6435 - mean_absolute_error: 4.8485 - val_loss: 47.0819 - val_mean_absolute_error: 4.4392\n",
            "Epoch 28/100\n",
            "9/9 [==============================] - 0s 11ms/step - loss: 39.7261 - mean_absolute_error: 4.6986 - val_loss: 42.9940 - val_mean_absolute_error: 4.2379\n",
            "Epoch 29/100\n",
            "9/9 [==============================] - 0s 11ms/step - loss: 42.9303 - mean_absolute_error: 4.7559 - val_loss: 49.6516 - val_mean_absolute_error: 5.2673\n",
            "Epoch 30/100\n",
            "9/9 [==============================] - 0s 12ms/step - loss: 44.1781 - mean_absolute_error: 5.1330 - val_loss: 43.9676 - val_mean_absolute_error: 4.2394\n",
            "Epoch 31/100\n",
            "9/9 [==============================] - 0s 20ms/step - loss: 42.9416 - mean_absolute_error: 4.7986 - val_loss: 43.8164 - val_mean_absolute_error: 4.2791\n",
            "Epoch 32/100\n",
            "9/9 [==============================] - 0s 12ms/step - loss: 43.5321 - mean_absolute_error: 4.9940 - val_loss: 56.4517 - val_mean_absolute_error: 6.1029\n",
            "Epoch 33/100\n",
            "9/9 [==============================] - 0s 22ms/step - loss: 43.7052 - mean_absolute_error: 5.0606 - val_loss: 55.6031 - val_mean_absolute_error: 4.9318\n"
          ]
        },
        {
          "output_type": "display_data",
          "data": {
            "text/plain": [
              "<Figure size 640x480 with 1 Axes>"
            ],
            "image/png": "[encoded data removed]"
          },
          "metadata": {}
        }
      ]
    },
    {
      "cell_type": "code",
      "execution_count": null,
      "metadata": {
        "id": "QTuI8n_38UyE"
      },
      "outputs": [],
      "source": [
        "from sklearn.preprocessing import MinMaxScaler\n",
        "mms = MinMaxScaler()\n",
        "mms.fit(X_train)\n",
        "X_train = mms.transform(X_train)\n",
        "X_test = mms.transform(X_test)"
      ]
    },
    {
      "cell_type": "code",
      "execution_count": null,
      "metadata": {
        "colab": {
          "base_uri": "https://localhost:8080/"
        },
        "id": "Y7m71ooKs5of",
        "outputId": "dbbe6eba-a3b3-4873-f464-82a308691e55"
      },
      "outputs": [
        {
          "output_type": "stream",
          "name": "stdout",
          "text": [
            "Epoch 1/100\n",
            "11/11 [==============================] - 1s 24ms/step - loss: 600.5466 - mean_absolute_error: 22.6773 - val_loss: 517.1720 - val_mean_absolute_error: 21.1372\n",
            "Epoch 2/100\n",
            "11/11 [==============================] - 0s 5ms/step - loss: 516.2539 - mean_absolute_error: 20.6579 - val_loss: 386.2051 - val_mean_absolute_error: 17.7620\n",
            "Epoch 3/100\n",
            "11/11 [==============================] - 0s 5ms/step - loss: 344.9320 - mean_absolute_error: 15.8933 - val_loss: 187.1595 - val_mean_absolute_error: 10.8422\n",
            "Epoch 4/100\n",
            "11/11 [==============================] - 0s 7ms/step - loss: 168.5711 - mean_absolute_error: 10.1690 - val_loss: 80.3057 - val_mean_absolute_error: 7.1329\n",
            "Epoch 5/100\n",
            "11/11 [==============================] - 0s 5ms/step - loss: 120.2215 - mean_absolute_error: 8.6113 - val_loss: 75.0259 - val_mean_absolute_error: 6.7634\n",
            "Epoch 6/100\n",
            "11/11 [==============================] - 0s 5ms/step - loss: 104.3669 - mean_absolute_error: 7.8932 - val_loss: 64.8169 - val_mean_absolute_error: 5.9052\n",
            "Epoch 7/100\n",
            "11/11 [==============================] - 0s 5ms/step - loss: 86.3762 - mean_absolute_error: 6.9676 - val_loss: 62.1031 - val_mean_absolute_error: 5.3189\n",
            "Epoch 8/100\n",
            "11/11 [==============================] - 0s 5ms/step - loss: 75.7094 - mean_absolute_error: 6.4000 - val_loss: 58.1311 - val_mean_absolute_error: 5.1534\n",
            "Epoch 9/100\n",
            "11/11 [==============================] - 0s 5ms/step - loss: 66.4834 - mean_absolute_error: 6.0388 - val_loss: 56.8229 - val_mean_absolute_error: 5.1348\n",
            "Epoch 10/100\n",
            "11/11 [==============================] - 0s 7ms/step - loss: 59.7844 - mean_absolute_error: 5.6925 - val_loss: 57.7756 - val_mean_absolute_error: 5.1037\n",
            "Epoch 11/100\n",
            "11/11 [==============================] - 0s 5ms/step - loss: 55.5054 - mean_absolute_error: 5.4006 - val_loss: 58.5149 - val_mean_absolute_error: 5.0995\n",
            "Epoch 12/100\n",
            "11/11 [==============================] - 0s 5ms/step - loss: 52.1340 - mean_absolute_error: 5.2817 - val_loss: 59.1225 - val_mean_absolute_error: 5.1770\n",
            "Epoch 13/100\n",
            "11/11 [==============================] - 0s 5ms/step - loss: 49.7501 - mean_absolute_error: 5.1368 - val_loss: 61.0141 - val_mean_absolute_error: 5.1421\n",
            "Epoch 14/100\n",
            "11/11 [==============================] - 0s 5ms/step - loss: 47.5285 - mean_absolute_error: 5.0188 - val_loss: 60.3051 - val_mean_absolute_error: 5.1984\n",
            "Epoch 15/100\n",
            "11/11 [==============================] - 0s 5ms/step - loss: 45.9348 - mean_absolute_error: 4.9275 - val_loss: 61.3927 - val_mean_absolute_error: 5.1297\n",
            "Epoch 16/100\n",
            "11/11 [==============================] - 0s 5ms/step - loss: 44.3146 - mean_absolute_error: 4.8417 - val_loss: 61.1300 - val_mean_absolute_error: 5.1467\n",
            "Epoch 17/100\n",
            "11/11 [==============================] - 0s 5ms/step - loss: 42.8875 - mean_absolute_error: 4.7287 - val_loss: 61.7768 - val_mean_absolute_error: 5.0813\n",
            "Epoch 18/100\n",
            "11/11 [==============================] - 0s 5ms/step - loss: 41.4259 - mean_absolute_error: 4.6319 - val_loss: 61.7986 - val_mean_absolute_error: 5.0951\n",
            "Epoch 19/100\n",
            "11/11 [==============================] - 0s 5ms/step - loss: 40.0615 - mean_absolute_error: 4.5677 - val_loss: 61.6727 - val_mean_absolute_error: 5.0710\n",
            "Epoch 20/100\n",
            "11/11 [==============================] - 0s 6ms/step - loss: 38.8308 - mean_absolute_error: 4.4995 - val_loss: 61.5101 - val_mean_absolute_error: 5.0552\n",
            "Epoch 21/100\n",
            "11/11 [==============================] - 0s 7ms/step - loss: 37.5848 - mean_absolute_error: 4.4048 - val_loss: 61.8891 - val_mean_absolute_error: 5.0530\n",
            "Epoch 22/100\n",
            "11/11 [==============================] - 0s 6ms/step - loss: 36.3819 - mean_absolute_error: 4.3329 - val_loss: 62.5632 - val_mean_absolute_error: 5.0488\n",
            "Epoch 23/100\n",
            "11/11 [==============================] - 0s 5ms/step - loss: 35.2083 - mean_absolute_error: 4.2671 - val_loss: 62.2351 - val_mean_absolute_error: 5.0404\n",
            "Epoch 24/100\n",
            "11/11 [==============================] - 0s 5ms/step - loss: 34.0730 - mean_absolute_error: 4.1652 - val_loss: 63.1818 - val_mean_absolute_error: 5.0588\n",
            "Epoch 25/100\n",
            "11/11 [==============================] - 0s 5ms/step - loss: 33.0014 - mean_absolute_error: 4.0904 - val_loss: 62.3704 - val_mean_absolute_error: 5.0288\n",
            "Epoch 26/100\n",
            "11/11 [==============================] - 0s 7ms/step - loss: 31.9398 - mean_absolute_error: 4.0317 - val_loss: 62.7603 - val_mean_absolute_error: 5.0250\n",
            "Epoch 27/100\n",
            "11/11 [==============================] - 0s 6ms/step - loss: 30.9281 - mean_absolute_error: 3.9497 - val_loss: 62.3326 - val_mean_absolute_error: 5.0049\n",
            "Epoch 28/100\n",
            "11/11 [==============================] - 0s 5ms/step - loss: 30.0076 - mean_absolute_error: 3.8938 - val_loss: 62.7109 - val_mean_absolute_error: 5.0040\n",
            "Epoch 29/100\n",
            "11/11 [==============================] - 0s 5ms/step - loss: 29.1579 - mean_absolute_error: 3.7988 - val_loss: 62.6986 - val_mean_absolute_error: 4.9855\n",
            "Epoch 30/100\n",
            "11/11 [==============================] - 0s 5ms/step - loss: 28.4097 - mean_absolute_error: 3.8328 - val_loss: 61.5066 - val_mean_absolute_error: 4.9402\n",
            "Epoch 31/100\n",
            "11/11 [==============================] - 0s 5ms/step - loss: 27.4279 - mean_absolute_error: 3.7259 - val_loss: 63.9792 - val_mean_absolute_error: 4.9813\n",
            "Epoch 32/100\n",
            "11/11 [==============================] - 0s 7ms/step - loss: 26.5819 - mean_absolute_error: 3.6109 - val_loss: 62.8383 - val_mean_absolute_error: 4.9323\n",
            "Epoch 33/100\n",
            "11/11 [==============================] - 0s 7ms/step - loss: 25.7875 - mean_absolute_error: 3.5804 - val_loss: 62.8830 - val_mean_absolute_error: 4.9138\n",
            "Epoch 34/100\n",
            "11/11 [==============================] - 0s 6ms/step - loss: 25.1836 - mean_absolute_error: 3.5430 - val_loss: 62.7802 - val_mean_absolute_error: 4.8885\n",
            "Epoch 35/100\n",
            "11/11 [==============================] - 0s 6ms/step - loss: 24.5480 - mean_absolute_error: 3.4881 - val_loss: 62.9758 - val_mean_absolute_error: 4.8638\n",
            "Epoch 36/100\n",
            "11/11 [==============================] - 0s 8ms/step - loss: 23.9774 - mean_absolute_error: 3.4299 - val_loss: 63.2117 - val_mean_absolute_error: 4.8419\n",
            "Epoch 37/100\n",
            "11/11 [==============================] - 0s 8ms/step - loss: 23.4694 - mean_absolute_error: 3.4163 - val_loss: 62.3802 - val_mean_absolute_error: 4.7952\n",
            "Epoch 38/100\n",
            "11/11 [==============================] - 0s 8ms/step - loss: 22.9599 - mean_absolute_error: 3.3629 - val_loss: 63.8033 - val_mean_absolute_error: 4.8135\n",
            "Epoch 39/100\n",
            "11/11 [==============================] - 0s 7ms/step - loss: 22.4596 - mean_absolute_error: 3.3170 - val_loss: 64.0539 - val_mean_absolute_error: 4.7977\n",
            "Epoch 40/100\n",
            "11/11 [==============================] - 0s 5ms/step - loss: 22.0556 - mean_absolute_error: 3.3189 - val_loss: 63.3691 - val_mean_absolute_error: 4.7570\n",
            "Epoch 41/100\n",
            "11/11 [==============================] - 0s 7ms/step - loss: 21.6931 - mean_absolute_error: 3.2308 - val_loss: 65.2380 - val_mean_absolute_error: 4.8126\n",
            "Epoch 42/100\n",
            "11/11 [==============================] - 0s 5ms/step - loss: 21.2272 - mean_absolute_error: 3.2234 - val_loss: 62.6487 - val_mean_absolute_error: 4.6948\n",
            "Epoch 43/100\n",
            "11/11 [==============================] - 0s 6ms/step - loss: 20.9719 - mean_absolute_error: 3.2241 - val_loss: 63.9456 - val_mean_absolute_error: 4.7358\n",
            "Epoch 44/100\n",
            "11/11 [==============================] - 0s 5ms/step - loss: 20.6439 - mean_absolute_error: 3.1761 - val_loss: 63.1965 - val_mean_absolute_error: 4.6901\n",
            "Epoch 45/100\n",
            "11/11 [==============================] - 0s 6ms/step - loss: 20.5754 - mean_absolute_error: 3.1432 - val_loss: 64.5836 - val_mean_absolute_error: 4.7452\n",
            "Epoch 46/100\n",
            "11/11 [==============================] - 0s 6ms/step - loss: 19.9167 - mean_absolute_error: 3.1273 - val_loss: 61.8624 - val_mean_absolute_error: 4.6133\n",
            "Epoch 47/100\n",
            "11/11 [==============================] - 0s 7ms/step - loss: 20.0513 - mean_absolute_error: 3.2159 - val_loss: 62.7057 - val_mean_absolute_error: 4.6540\n",
            "Epoch 48/100\n",
            "11/11 [==============================] - 0s 8ms/step - loss: 19.5506 - mean_absolute_error: 3.0569 - val_loss: 64.5717 - val_mean_absolute_error: 4.7618\n",
            "Epoch 49/100\n",
            "11/11 [==============================] - 0s 14ms/step - loss: 19.3213 - mean_absolute_error: 3.0451 - val_loss: 62.7738 - val_mean_absolute_error: 4.6540\n",
            "Epoch 50/100\n",
            "11/11 [==============================] - 0s 9ms/step - loss: 19.2401 - mean_absolute_error: 3.1223 - val_loss: 62.5759 - val_mean_absolute_error: 4.6605\n",
            "Epoch 51/100\n",
            "11/11 [==============================] - 0s 8ms/step - loss: 19.1201 - mean_absolute_error: 3.0372 - val_loss: 64.9651 - val_mean_absolute_error: 4.7555\n",
            "Epoch 52/100\n",
            "11/11 [==============================] - 0s 8ms/step - loss: 18.6779 - mean_absolute_error: 3.0136 - val_loss: 62.0689 - val_mean_absolute_error: 4.6231\n",
            "Epoch 53/100\n",
            "11/11 [==============================] - 0s 16ms/step - loss: 18.6760 - mean_absolute_error: 3.0695 - val_loss: 61.8349 - val_mean_absolute_error: 4.6288\n",
            "Epoch 54/100\n",
            "11/11 [==============================] - 0s 12ms/step - loss: 18.4568 - mean_absolute_error: 3.0389 - val_loss: 63.1295 - val_mean_absolute_error: 4.6857\n",
            "Epoch 55/100\n",
            "11/11 [==============================] - 0s 11ms/step - loss: 18.3339 - mean_absolute_error: 2.9907 - val_loss: 62.8673 - val_mean_absolute_error: 4.6690\n",
            "Epoch 56/100\n",
            "11/11 [==============================] - 0s 14ms/step - loss: 18.2518 - mean_absolute_error: 3.0117 - val_loss: 62.5037 - val_mean_absolute_error: 4.6669\n",
            "Epoch 57/100\n",
            "11/11 [==============================] - 0s 9ms/step - loss: 18.0713 - mean_absolute_error: 2.9674 - val_loss: 64.1491 - val_mean_absolute_error: 4.7186\n",
            "Epoch 58/100\n",
            "11/11 [==============================] - 0s 10ms/step - loss: 18.0237 - mean_absolute_error: 2.9945 - val_loss: 62.3933 - val_mean_absolute_error: 4.7119\n",
            "Epoch 59/100\n",
            "11/11 [==============================] - 0s 9ms/step - loss: 17.8131 - mean_absolute_error: 2.9776 - val_loss: 63.9451 - val_mean_absolute_error: 4.7189\n",
            "Epoch 60/100\n",
            "11/11 [==============================] - 0s 10ms/step - loss: 17.8185 - mean_absolute_error: 2.9616 - val_loss: 61.7841 - val_mean_absolute_error: 4.6834\n",
            "Epoch 61/100\n",
            "11/11 [==============================] - 0s 13ms/step - loss: 17.7121 - mean_absolute_error: 2.9537 - val_loss: 62.3345 - val_mean_absolute_error: 4.6968\n",
            "Epoch 62/100\n",
            "11/11 [==============================] - 0s 16ms/step - loss: 17.6176 - mean_absolute_error: 2.9752 - val_loss: 62.3080 - val_mean_absolute_error: 4.7139\n",
            "Epoch 63/100\n",
            "11/11 [==============================] - 0s 21ms/step - loss: 17.4507 - mean_absolute_error: 2.9401 - val_loss: 63.1711 - val_mean_absolute_error: 4.6961\n",
            "Epoch 64/100\n",
            "11/11 [==============================] - 0s 15ms/step - loss: 17.3411 - mean_absolute_error: 2.9119 - val_loss: 62.6359 - val_mean_absolute_error: 4.6705\n",
            "Epoch 65/100\n",
            "11/11 [==============================] - 0s 35ms/step - loss: 17.2897 - mean_absolute_error: 2.9084 - val_loss: 62.9287 - val_mean_absolute_error: 4.6866\n",
            "Epoch 66/100\n",
            "11/11 [==============================] - 0s 27ms/step - loss: 17.4959 - mean_absolute_error: 2.9644 - val_loss: 62.4608 - val_mean_absolute_error: 4.6754\n",
            "Epoch 67/100\n",
            "11/11 [==============================] - 0s 22ms/step - loss: 17.1206 - mean_absolute_error: 2.8952 - val_loss: 63.2179 - val_mean_absolute_error: 4.6899\n",
            "Epoch 68/100\n",
            "11/11 [==============================] - 0s 19ms/step - loss: 17.0189 - mean_absolute_error: 2.8857 - val_loss: 62.3139 - val_mean_absolute_error: 4.6790\n",
            "Epoch 69/100\n",
            "11/11 [==============================] - 0s 24ms/step - loss: 17.1589 - mean_absolute_error: 2.9287 - val_loss: 60.8792 - val_mean_absolute_error: 4.6200\n",
            "Epoch 70/100\n",
            "11/11 [==============================] - 0s 20ms/step - loss: 16.8540 - mean_absolute_error: 2.8961 - val_loss: 62.4430 - val_mean_absolute_error: 4.6519\n",
            "Epoch 71/100\n",
            "11/11 [==============================] - 0s 20ms/step - loss: 16.7952 - mean_absolute_error: 2.8685 - val_loss: 61.6316 - val_mean_absolute_error: 4.6576\n",
            "Epoch 72/100\n",
            "11/11 [==============================] - 0s 26ms/step - loss: 16.7767 - mean_absolute_error: 2.8761 - val_loss: 62.4754 - val_mean_absolute_error: 4.6714\n",
            "Epoch 73/100\n",
            "11/11 [==============================] - 0s 18ms/step - loss: 16.5929 - mean_absolute_error: 2.8745 - val_loss: 60.8460 - val_mean_absolute_error: 4.6563\n",
            "Epoch 74/100\n",
            "11/11 [==============================] - 0s 22ms/step - loss: 16.5014 - mean_absolute_error: 2.8749 - val_loss: 61.8958 - val_mean_absolute_error: 4.6456\n",
            "Epoch 75/100\n",
            "11/11 [==============================] - 0s 34ms/step - loss: 16.4920 - mean_absolute_error: 2.8341 - val_loss: 62.5926 - val_mean_absolute_error: 4.6904\n",
            "Epoch 76/100\n",
            "11/11 [==============================] - 0s 21ms/step - loss: 16.4120 - mean_absolute_error: 2.8504 - val_loss: 61.6603 - val_mean_absolute_error: 4.6621\n",
            "Epoch 77/100\n",
            "11/11 [==============================] - 0s 19ms/step - loss: 16.4093 - mean_absolute_error: 2.8690 - val_loss: 60.1567 - val_mean_absolute_error: 4.5762\n",
            "Epoch 78/100\n",
            "11/11 [==============================] - 0s 18ms/step - loss: 16.2826 - mean_absolute_error: 2.8119 - val_loss: 62.3157 - val_mean_absolute_error: 4.6170\n",
            "Epoch 79/100\n",
            "11/11 [==============================] - 0s 9ms/step - loss: 16.1541 - mean_absolute_error: 2.8131 - val_loss: 60.9683 - val_mean_absolute_error: 4.6429\n",
            "Epoch 80/100\n",
            "11/11 [==============================] - 0s 9ms/step - loss: 16.0460 - mean_absolute_error: 2.8297 - val_loss: 61.3085 - val_mean_absolute_error: 4.6352\n",
            "Epoch 81/100\n",
            "11/11 [==============================] - 0s 9ms/step - loss: 16.0178 - mean_absolute_error: 2.7978 - val_loss: 61.6435 - val_mean_absolute_error: 4.6185\n",
            "Epoch 82/100\n",
            "11/11 [==============================] - 0s 14ms/step - loss: 15.9407 - mean_absolute_error: 2.7931 - val_loss: 61.1375 - val_mean_absolute_error: 4.6293\n",
            "Epoch 83/100\n",
            "11/11 [==============================] - 0s 14ms/step - loss: 16.0405 - mean_absolute_error: 2.8381 - val_loss: 60.6693 - val_mean_absolute_error: 4.6114\n",
            "Epoch 84/100\n",
            "11/11 [==============================] - 0s 11ms/step - loss: 15.7833 - mean_absolute_error: 2.7639 - val_loss: 61.9424 - val_mean_absolute_error: 4.6088\n",
            "Epoch 85/100\n",
            "11/11 [==============================] - 0s 13ms/step - loss: 15.7027 - mean_absolute_error: 2.7678 - val_loss: 59.5186 - val_mean_absolute_error: 4.5794\n",
            "Epoch 86/100\n",
            "11/11 [==============================] - 0s 10ms/step - loss: 15.6378 - mean_absolute_error: 2.7857 - val_loss: 61.0833 - val_mean_absolute_error: 4.5964\n",
            "Epoch 87/100\n",
            "11/11 [==============================] - 0s 13ms/step - loss: 15.6176 - mean_absolute_error: 2.7450 - val_loss: 61.2141 - val_mean_absolute_error: 4.5950\n",
            "Epoch 88/100\n",
            "11/11 [==============================] - 0s 17ms/step - loss: 15.4579 - mean_absolute_error: 2.7402 - val_loss: 59.8511 - val_mean_absolute_error: 4.5789\n",
            "Epoch 89/100\n",
            "11/11 [==============================] - 0s 16ms/step - loss: 15.4368 - mean_absolute_error: 2.7597 - val_loss: 60.6551 - val_mean_absolute_error: 4.5796\n",
            "Epoch 90/100\n",
            "11/11 [==============================] - 0s 26ms/step - loss: 15.3890 - mean_absolute_error: 2.7268 - val_loss: 60.8707 - val_mean_absolute_error: 4.5825\n",
            "Epoch 91/100\n",
            "11/11 [==============================] - 0s 10ms/step - loss: 15.3266 - mean_absolute_error: 2.7401 - val_loss: 59.9082 - val_mean_absolute_error: 4.5590\n",
            "Epoch 92/100\n",
            "11/11 [==============================] - 0s 14ms/step - loss: 15.1898 - mean_absolute_error: 2.7183 - val_loss: 61.1778 - val_mean_absolute_error: 4.5682\n",
            "Epoch 93/100\n",
            "11/11 [==============================] - 0s 9ms/step - loss: 15.3595 - mean_absolute_error: 2.7129 - val_loss: 59.8486 - val_mean_absolute_error: 4.5359\n",
            "Epoch 94/100\n",
            "11/11 [==============================] - 0s 10ms/step - loss: 15.8192 - mean_absolute_error: 2.8364 - val_loss: 58.7022 - val_mean_absolute_error: 4.5028\n",
            "Epoch 95/100\n",
            "11/11 [==============================] - 0s 20ms/step - loss: 14.9814 - mean_absolute_error: 2.7067 - val_loss: 59.4783 - val_mean_absolute_error: 4.5135\n",
            "Epoch 96/100\n",
            "11/11 [==============================] - 0s 16ms/step - loss: 14.9626 - mean_absolute_error: 2.6893 - val_loss: 59.7135 - val_mean_absolute_error: 4.5592\n",
            "Epoch 97/100\n",
            "11/11 [==============================] - 0s 25ms/step - loss: 14.9126 - mean_absolute_error: 2.7029 - val_loss: 58.8725 - val_mean_absolute_error: 4.5144\n",
            "Epoch 98/100\n",
            "11/11 [==============================] - 0s 8ms/step - loss: 14.8165 - mean_absolute_error: 2.7004 - val_loss: 59.2397 - val_mean_absolute_error: 4.5100\n",
            "Epoch 99/100\n",
            "11/11 [==============================] - 0s 6ms/step - loss: 14.7984 - mean_absolute_error: 2.6676 - val_loss: 59.0340 - val_mean_absolute_error: 4.5286\n",
            "Epoch 100/100\n",
            "11/11 [==============================] - 0s 6ms/step - loss: 14.6865 - mean_absolute_error: 2.6652 - val_loss: 59.1192 - val_mean_absolute_error: 4.5138\n"
          ]
        }
      ],
      "source": [
        "history = model.fit(X_train, y_train, epochs=100, validation_split=0.05, verbose = 1)"
      ]
    },
    {
      "cell_type": "code",
      "source": [
        "loss, mae = model.evaluate(X_test, y_test)\n",
        "# Print the mean absolute error\n",
        "print('Mean Absolute Error:', mae)\n"
      ],
      "metadata": {
        "colab": {
          "base_uri": "https://localhost:8080/"
        },
        "id": "D6o-5zjgJCsF",
        "outputId": "79c744d7-ae9d-4a57-88da-feb0d06f6ddf"
      },
      "execution_count": null,
      "outputs": [
        {
          "output_type": "stream",
          "name": "stdout",
          "text": [
            "5/5 [==============================] - 0s 3ms/step - loss: 508.8694 - mean_absolute_error: 20.8366\n",
            "Mean Absolute Error: 20.836565017700195\n"
          ]
        }
      ]
    }
  ],
  "metadata": {
    "colab": {
      "provenance": [],
      "toc_visible": true
    },
    "kernelspec": {
      "display_name": "Python 3",
      "name": "python3"
    },
    "language_info": {
      "codemirror_mode": {
        "name": "ipython",
        "version": 3
      },
      "file_extension": ".py",
      "mimetype": "text/x-python",
      "name": "python",
      "nbconvert_exporter": "python",
      "pygments_lexer": "ipython3",
      "version": "3.11.2"
    }
  },
  "nbformat": 4,
  "nbformat_minor": 0
}